{
 "cells": [
  {
   "cell_type": "code",
   "execution_count": 1,
   "metadata": {},
   "outputs": [
    {
     "name": "stdout",
     "output_type": "stream",
     "text": [
      "Populating the interactive namespace from numpy and matplotlib\n"
     ]
    }
   ],
   "source": [
    "%pylab inline"
   ]
  },
  {
   "cell_type": "markdown",
   "metadata": {},
   "source": [
    "Először is kell egy loop a fájlok beolvasására; ezeket mind el kell majd tárolni, szóval lehet először egy beolvasóciklus egy adott könyvtár összes fájljára, majd ezekre egyesével lefuttatom majd a normálást, a rebint, majd a főkompinens analízist. Tehát beolvasás:"
   ]
  },
  {
   "cell_type": "code",
   "execution_count": 2,
   "metadata": {
    "collapsed": true
   },
   "outputs": [],
   "source": [
    "import os\n",
    "from numpy import loadtxt\n",
    "from numpy import append\n",
    "import codecs"
   ]
  },
  {
   "cell_type": "code",
   "execution_count": 3,
   "metadata": {},
   "outputs": [
    {
     "data": {
      "text/plain": [
       "(13787, 59)"
      ]
     },
     "execution_count": 3,
     "metadata": {},
     "output_type": "execute_result"
    }
   ],
   "source": [
    "data=loadtxt('emisslines.txt')\n",
    "data.shape"
   ]
  },
  {
   "cell_type": "code",
   "execution_count": 4,
   "metadata": {},
   "outputs": [
    {
     "name": "stdout",
     "output_type": "stream",
     "text": [
      "[[  8.66347088e+16   1.92386000e+01   1.80219000e+01 ...,   1.23107000e+00\n",
      "    1.07600000e+00   1.98866026e+00]\n",
      " [  8.66347089e+16   1.93329000e+01   1.85948000e+01 ...,   1.57473000e+00\n",
      "    2.04507000e+00   2.30221849e+00]\n",
      " [  8.66347089e+16   2.06914000e+01   1.90301000e+01 ...,  -1.50105000e-01\n",
      "    9.86770000e-01   2.33645120e-01]\n",
      " ..., \n",
      " [  8.31429941e+17   1.93667000e+01   1.74911000e+01 ...,   6.36030000e-01\n",
      "   -7.42585000e-02  -9.86889764e-01]\n",
      " [  8.31429941e+17   1.85669000e+01   1.75165000e+01 ...,   7.83868000e-01\n",
      "    8.87521000e-01  -4.27054880e-03]\n",
      " [  8.31429941e+17   1.91550000e+01   1.80001000e+01 ...,   1.07516000e+00\n",
      "    2.46128000e-01   7.60975260e-01]]\n"
     ]
    }
   ],
   "source": [
    "print(data)"
   ]
  },
  {
   "cell_type": "markdown",
   "metadata": {},
   "source": [
    "Oszlopokat tartom meg, ezeket kiszedegetem az  adatsorból"
   ]
  },
  {
   "cell_type": "code",
   "execution_count": 5,
   "metadata": {},
   "outputs": [],
   "source": [
    "lineEWp=numpy.empty((10,13788))\n",
    "lineEWp[:,0]=[6565,4863,6718,6733,4342,3727,5008,4960,6585,6550]\n",
    "lineEWp[0,1:]=data[:,19]\n",
    "lineEWp[1,1:]=data[:,23]\n",
    "lineEWp[2,1:]=data[:,27]\n",
    "lineEWp[3,1:]=data[:,31]\n",
    "lineEWp[4,1:]=data[:,35]\n",
    "lineEWp[5,1:]=data[:,39]\n",
    "lineEWp[6,1:]=data[:,43]\n",
    "lineEWp[7,1:]=data[:,47]\n",
    "lineEWp[8,1:]=data[:,51]\n",
    "lineEWp[9,1:]=data[:,55]\n",
    "\n",
    "# sorbarendezem őket hullámhossz szerint\n",
    "\n",
    "lineEW=numpy.empty((10,13788))\n",
    "\n",
    "lineEW[0,:]=lineEWp[5,:]\n",
    "lineEW[1,:]=lineEWp[4,:]\n",
    "lineEW[2,:]=lineEWp[1,:]\n",
    "lineEW[3,:]=lineEWp[7,:]\n",
    "lineEW[4,:]=lineEWp[6,:]\n",
    "lineEW[5,:]=lineEWp[9,:]\n",
    "lineEW[6,:]=lineEWp[0,:]\n",
    "lineEW[7,:]=lineEWp[8,:]\n",
    "lineEW[8,:]=lineEWp[2,:]\n",
    "lineEW[9,:]=lineEWp[3,:]\n",
    "#print(lineEWp) # ez stimmel"
   ]
  },
  {
   "cell_type": "code",
   "execution_count": 6,
   "metadata": {},
   "outputs": [
    {
     "name": "stdout",
     "output_type": "stream",
     "text": [
      "[ 2.0115    1.14995   2.067    -0.744458  0.184125  1.05734   3.33148\n",
      "  2.17149   1.44231   1.15532 ]\n"
     ]
    }
   ],
   "source": [
    "print(lineEW[:,1]) # ez is jónak néz ki"
   ]
  },
  {
   "cell_type": "code",
   "execution_count": 7,
   "metadata": {
    "collapsed": true
   },
   "outputs": [],
   "source": [
    "# Save\n",
    "# numpy.save('./PCAfeldolgozas/lines.npy', lineEW) \n",
    "\n",
    "# Load\n",
    "# lineEW = numpy.load('./PCAfeldolgozas/lines.npy').item()\n",
    "# print(read_dictionary)"
   ]
  },
  {
   "cell_type": "code",
   "execution_count": 8,
   "metadata": {
    "collapsed": true
   },
   "outputs": [],
   "source": [
    "#lineEW=lineEWp"
   ]
  },
  {
   "cell_type": "code",
   "execution_count": 9,
   "metadata": {},
   "outputs": [
    {
     "data": {
      "text/plain": [
       "<Container object of 3 artists>"
      ]
     },
     "execution_count": 9,
     "metadata": {},
     "output_type": "execute_result"
    },
    {
     "data": {
      "image/png": "[encoded data removed]",
      "text/plain": [
       "<matplotlib.figure.Figure at 0x2c21ddf0e48>"
      ]
     },
     "metadata": {},
     "output_type": "display_data"
    }
   ],
   "source": [
    "figsize(12,8)\n",
    "plt.stem(lineEW[:,0],lineEW[:,1])"
   ]
  },
  {
   "cell_type": "markdown",
   "metadata": {},
   "source": [
    "A vonal EW-k be vannak töltve a **lineEW**-be, az első oszlop a laboratóriumi hullámhosszak, a többi a line EW"
   ]
  },
  {
   "cell_type": "code",
   "execution_count": 24,
   "metadata": {},
   "outputs": [
    {
     "name": "stdout",
     "output_type": "stream",
     "text": [
      "[[  6.56500000e+03  -3.53204270e-02]\n",
      " [  4.86300000e+03  -2.64172435e-02]\n",
      " [  6.71800000e+03  -2.20115147e-02]\n",
      " [  6.73300000e+03  -1.99779625e-02]\n",
      " [  4.34200000e+03  -1.99111704e-02]\n",
      " [  3.72700000e+03  -2.58998561e-02]\n",
      " [  5.00800000e+03  -1.29712879e-02]\n",
      " [  4.96000000e+03  -6.29341211e-03]\n",
      " [  6.58500000e+03  -2.65902329e-02]\n",
      " [  6.55000000e+03  -1.82441867e-02]]\n"
     ]
    }
   ],
   "source": [
    "atlagemiss=numpy.empty((10,2))\n",
    "atlagemiss[:,0]=lineEW[:,0]\n",
    "for k in range (0,10):\n",
    "    for j in range (0,13787):\n",
    "        atlagemiss[k,1]+=lineEW[k,j+1]\n",
    "    atlagemiss[k,1]=atlagemiss[k,1]/13787\n",
    "print(atlagemiss)\n",
    "#numpy.save('./PCAfeldolgozas/emissatlagnosorb.npy',atlagemiss)"
   ]
  },
  {
   "cell_type": "code",
   "execution_count": 11,
   "metadata": {},
   "outputs": [
    {
     "data": {
      "text/plain": [
       "<matplotlib.text.Text at 0x2c21dca40f0>"
      ]
     },
     "execution_count": 11,
     "metadata": {},
     "output_type": "execute_result"
    },
    {
     "data": {
      "image/png": "[encoded data removed]",
      "text/plain": [
       "<matplotlib.figure.Figure at 0x2c21dbcf208>"
      ]
     },
     "metadata": {},
     "output_type": "display_data"
    }
   ],
   "source": [
    "plt.figure(1)\n",
    "plt.subplot(211)\n",
    "plt.stem(lineEW[:,0],lineEW[:,1])\n",
    "plt.subplot(212)\n",
    "plt.stem(atlagemiss[:,0],atlagemiss[:,1],'g')\n",
    "plt.ylabel('Átlagok')\n",
    "plt.xlabel('Hullámhossz')"
   ]
  },
  {
   "cell_type": "code",
   "execution_count": 12,
   "metadata": {
    "collapsed": true
   },
   "outputs": [],
   "source": [
    "for j in range (0,13787):\n",
    "    lineEW[:,j+1]=lineEW[:,j+1]-atlagemiss[:,1]\n",
    "#numpy.save('./PCAfeldolgozas/emiss_levontatlag.npy',lineEW)"
   ]
  },
  {
   "cell_type": "code",
   "execution_count": 13,
   "metadata": {},
   "outputs": [
    {
     "data": {
      "text/plain": [
       "<Container object of 3 artists>"
      ]
     },
     "execution_count": 13,
     "metadata": {},
     "output_type": "execute_result"
    },
    {
     "data": {
      "image/png": "[encoded data removed]",
      "text/plain": [
       "<matplotlib.figure.Figure at 0x2c21dbcf9e8>"
      ]
     },
     "metadata": {},
     "output_type": "display_data"
    }
   ],
   "source": [
    "plt.stem(lineEW[:,0],lineEW[:,1])"
   ]
  },
  {
   "cell_type": "markdown",
   "metadata": {},
   "source": [
    "Először létrehozom a korrelációmátrixot, ebben oszloponként vannak bent az egyes log(**EW**)-k"
   ]
  },
  {
   "cell_type": "code",
   "execution_count": 7,
   "metadata": {},
   "outputs": [
    {
     "name": "stdout",
     "output_type": "stream",
     "text": [
      "[[ 2.0115    3.23478   2.9072   ...,  2.2671    2.15383   3.24671 ]\n",
      " [ 1.14995   1.66416   0.34619  ...,  0.535753  0.880342  1.58702 ]\n",
      " [ 2.067     2.55159   1.15192  ...,  0.571888  1.57319   1.84907 ]\n",
      " ..., \n",
      " [ 2.17149   3.03584   2.11629  ...,  2.16274   1.46358   1.06472 ]\n",
      " [ 1.44231   2.33382   1.17874  ...,  1.16978   1.17064   1.47272 ]\n",
      " [ 1.15532   2.05502   1.08947  ...,  0.407996  0.48248   0.988038]]\n"
     ]
    }
   ],
   "source": [
    "korrelaciomatrix=numpy.empty((10,13787))\n",
    "korrelaciomatrix[:,:]=lineEW[:,1:]\n",
    "print(korrelaciomatrix)"
   ]
  },
  {
   "cell_type": "code",
   "execution_count": 8,
   "metadata": {},
   "outputs": [
    {
     "data": {
      "text/plain": [
       "(10, 10)"
      ]
     },
     "execution_count": 8,
     "metadata": {},
     "output_type": "execute_result"
    }
   ],
   "source": [
    "xxT=numpy.dot(korrelaciomatrix, korrelaciomatrix.T)\n",
    "xxT.shape"
   ]
  },
  {
   "cell_type": "markdown",
   "metadata": {},
   "source": [
    "Majd erre futtatom le az SVD-t"
   ]
  },
  {
   "cell_type": "code",
   "execution_count": 9,
   "metadata": {},
   "outputs": [
    {
     "data": {
      "text/plain": [
       "((10, 10), (10, 10), (10,))"
      ]
     },
     "execution_count": 9,
     "metadata": {},
     "output_type": "execute_result"
    }
   ],
   "source": [
    "U, s, V = numpy.linalg.svd(xxT)\n",
    "U.shape, V.shape, s.shape"
   ]
  },
  {
   "cell_type": "code",
   "execution_count": 10,
   "metadata": {
    "scrolled": true
   },
   "outputs": [
    {
     "name": "stdout",
     "output_type": "stream",
     "text": [
      "[[-0.45037438 -0.20541958 -0.33964113 -0.07610391 -0.2525721  -0.16850415\n",
      "  -0.54528539 -0.3497343  -0.27234763 -0.21865046]\n",
      " [ 0.07824255 -0.08939555  0.04183146 -0.73156991 -0.55397801 -0.03194613\n",
      "   0.26347654  0.21628943 -0.06692734 -0.14265227]\n",
      " [ 0.59205818 -0.21219375 -0.1126488  -0.05776307  0.2268854  -0.62955559\n",
      "   0.07654112 -0.26531368 -0.11385753 -0.22668027]\n",
      " [ 0.11419759 -0.53515509 -0.32832443 -0.03987526  0.34134983  0.36450691\n",
      "  -0.08434321  0.49777188 -0.21581341 -0.20082314]\n",
      " [ 0.3496525  -0.07586332 -0.23427959 -0.30013279 -0.02011282  0.12777797\n",
      "  -0.47402383 -0.09534958  0.43746869  0.5339668 ]\n",
      " [-0.20869359  0.37434471  0.08718783 -0.58996058  0.64610862  0.04060586\n",
      "  -0.08659692 -0.11318437 -0.10926333 -0.09645952]\n",
      " [ 0.43713964  0.62538283 -0.19812266  0.1207318  -0.20191217  0.21265845\n",
      "  -0.30637343  0.14689425 -0.24177991 -0.32262086]\n",
      " [ 0.19008445 -0.24168901  0.37477676 -0.02749006 -0.03054256  0.51210348\n",
      "  -0.04666223 -0.50496252  0.21755426 -0.44335518]\n",
      " [ 0.18408766 -0.10303541  0.259148   -0.0230163  -0.04152816  0.20411757\n",
      "   0.00657137 -0.22873912 -0.74343541  0.48924273]\n",
      " [ 0.02336077 -0.1112264   0.67309049  0.00960498 -0.00567225 -0.27251908\n",
      "  -0.54035988  0.40242727  0.00275794 -0.07547824]]\n"
     ]
    }
   ],
   "source": [
    "print(V)\n",
    "numpy.save('./PCAfeldolgozas/EmissVnoatl.npy',V)\n",
    "V4=V[0:4,:]\n",
    "numpy.save('./PCAfeldolgozas/EmissV4noatl.npy',V4)"
   ]
  },
  {
   "cell_type": "markdown",
   "metadata": {},
   "source": [
    "Végül kiszámoljuk a főkomponenseket: lényegében csak a $V$-vel szorozzuk az összes oszlopvektort. Tehát ha vissza akarom majd kapni az **EW**-ket az együtthatókból, akkor csak a ezen mátrix inverzével kell szorozni az együtthatók vektorát."
   ]
  },
  {
   "cell_type": "code",
   "execution_count": 11,
   "metadata": {
    "collapsed": true
   },
   "outputs": [],
   "source": [
    "PCsemiss=numpy.dot(V, korrelaciomatrix)\n",
    "# numpy.save('./PCAfeldolgozas/PCsemiss.npy',PCsemiss)\n",
    "PCsemiss4en=numpy.dot(V4, korrelaciomatrix)\n",
    "#numpy.save('./PCAfeldolgozas/PCsemiss4ennosorb.npy',PCsemiss4en)"
   ]
  },
  {
   "cell_type": "code",
   "execution_count": 12,
   "metadata": {},
   "outputs": [
    {
     "name": "stdout",
     "output_type": "stream",
     "text": [
      "[ -5.23367625e+00   1.63599220e+00  -6.14046022e-01  -3.29761371e-01\n",
      "  -5.17147593e-02  -1.13002443e-02  -1.36408174e-01  -1.50145768e-02\n",
      "   3.09309084e-02   4.46816218e-03]\n"
     ]
    }
   ],
   "source": [
    "print(PCsemiss[:,0])\n",
    "#numpy.save('./PCAfeldolgozas/PCAemissGX1.npy',PCsemiss[:,0])"
   ]
  },
  {
   "cell_type": "code",
   "execution_count": 13,
   "metadata": {},
   "outputs": [
    {
     "ename": "NameError",
     "evalue": "name 'atlagemiss' is not defined",
     "output_type": "error",
     "traceback": [
      "\u001b[1;31m---------------------------------------------------------------------------\u001b[0m",
      "\u001b[1;31mNameError\u001b[0m                                 Traceback (most recent call last)",
      "\u001b[1;32m<ipython-input-13-9a0d63e1c438>\u001b[0m in \u001b[0;36m<module>\u001b[1;34m()\u001b[0m\n\u001b[0;32m      3\u001b[0m \u001b[0mtemp\u001b[0m\u001b[1;33m=\u001b[0m\u001b[0mPCsemiss\u001b[0m\u001b[1;33m[\u001b[0m\u001b[1;33m:\u001b[0m\u001b[1;33m,\u001b[0m\u001b[1;36m0\u001b[0m\u001b[1;33m]\u001b[0m\u001b[1;33m\u001b[0m\u001b[0m\n\u001b[0;32m      4\u001b[0m \u001b[0mlogEWred\u001b[0m\u001b[1;33m=\u001b[0m\u001b[0mnumpy\u001b[0m\u001b[1;33m.\u001b[0m\u001b[0mdot\u001b[0m\u001b[1;33m(\u001b[0m\u001b[0mV\u001b[0m\u001b[1;33m.\u001b[0m\u001b[0mT\u001b[0m\u001b[1;33m,\u001b[0m\u001b[0mtemp\u001b[0m\u001b[1;33m)\u001b[0m\u001b[1;33m\u001b[0m\u001b[0m\n\u001b[1;32m----> 5\u001b[1;33m \u001b[0mlogEWk\u001b[0m\u001b[1;33m=\u001b[0m\u001b[0mlogEWred\u001b[0m\u001b[1;33m+\u001b[0m\u001b[0matlagemiss\u001b[0m\u001b[1;33m[\u001b[0m\u001b[1;33m:\u001b[0m\u001b[1;33m,\u001b[0m\u001b[1;36m1\u001b[0m\u001b[1;33m]\u001b[0m\u001b[1;33m\u001b[0m\u001b[0m\n\u001b[0m\u001b[0;32m      6\u001b[0m \u001b[0mplt\u001b[0m\u001b[1;33m.\u001b[0m\u001b[0mstem\u001b[0m\u001b[1;33m(\u001b[0m\u001b[0mmintapontok\u001b[0m\u001b[1;33m[\u001b[0m\u001b[1;33m:\u001b[0m\u001b[1;33m]\u001b[0m\u001b[1;33m,\u001b[0m\u001b[0mlogEWk\u001b[0m\u001b[1;33m[\u001b[0m\u001b[1;33m:\u001b[0m\u001b[1;33m]\u001b[0m\u001b[1;33m,\u001b[0m\u001b[1;34m'r'\u001b[0m\u001b[1;33m)\u001b[0m\u001b[1;33m\u001b[0m\u001b[0m\n\u001b[0;32m      7\u001b[0m \u001b[0mplt\u001b[0m\u001b[1;33m.\u001b[0m\u001b[0mstem\u001b[0m\u001b[1;33m(\u001b[0m\u001b[0mlineEW\u001b[0m\u001b[1;33m[\u001b[0m\u001b[1;33m:\u001b[0m\u001b[1;33m,\u001b[0m\u001b[1;36m0\u001b[0m\u001b[1;33m]\u001b[0m\u001b[1;33m,\u001b[0m\u001b[0mlineEW\u001b[0m\u001b[1;33m[\u001b[0m\u001b[1;33m:\u001b[0m\u001b[1;33m,\u001b[0m\u001b[1;36m1\u001b[0m\u001b[1;33m]\u001b[0m\u001b[1;33m+\u001b[0m\u001b[0matlagemiss\u001b[0m\u001b[1;33m[\u001b[0m\u001b[1;33m:\u001b[0m\u001b[1;33m,\u001b[0m\u001b[1;36m1\u001b[0m\u001b[1;33m]\u001b[0m\u001b[1;33m)\u001b[0m\u001b[1;33m\u001b[0m\u001b[0m\n",
      "\u001b[1;31mNameError\u001b[0m: name 'atlagemiss' is not defined"
     ]
    }
   ],
   "source": [
    "figsize(12,8)\n",
    "mintapontok=[6565,4863,6718,6733,4342,3727,5008,4960,6585,6550]\n",
    "temp=PCsemiss[:,0]\n",
    "logEWred=numpy.dot(V.T,temp)\n",
    "logEWk=logEWred+atlagemiss[:,1]\n",
    "plt.stem(mintapontok[:],logEWk[:],'r')\n",
    "plt.stem(lineEW[:,0],lineEW[:,1]+atlagemiss[:,1])"
   ]
  },
  {
   "cell_type": "code",
   "execution_count": 14,
   "metadata": {},
   "outputs": [
    {
     "data": {
      "text/plain": [
       "(-0.9, 0.9)"
      ]
     },
     "execution_count": 14,
     "metadata": {},
     "output_type": "execute_result"
    },
    {
     "data": {
      "image/png": "[encoded data removed]",
      "text/plain": [
       "<matplotlib.figure.Figure at 0x1fe6791b630>"
      ]
     },
     "metadata": {},
     "output_type": "display_data"
    }
   ],
   "source": [
    "figsize(18,8)\n",
    "#V=numpy.load('./PCAfeldolgozas/EmissV.npy')\n",
    "eig5=V[0:5,:]\n",
    "mintapontok=[3727,4342,4863,4960,5008,6550,6565,6585,6718,6733]\n",
    "figsize(5,9)\n",
    "f, (ax1, ax2, ax3, ax4) = plt.subplots(4,1, sharex=True, sharey=True)\n",
    "ax1.vlines(mintapontok,0,eig5[0,:],label='eig1',color='blue')\n",
    "ax1.grid(True)\n",
    "ax1.legend(loc=4)\n",
    "ax1.set_ylabel('$\\log{\\mathrm{EW}}$')\n",
    "ax2.vlines(mintapontok,0,eig5[1,:],label='eig2',color='blue')\n",
    "ax2.grid(True)\n",
    "ax2.legend(loc=4)\n",
    "ax2.set_ylabel('$\\log{\\mathrm{EW}}$')\n",
    "ax3.vlines(mintapontok,0,eig5[2,:],label='eig3',color='blue')\n",
    "ax3.grid(True)\n",
    "ax3.legend(loc=4)\n",
    "ax3.set_ylabel('$\\log{\\mathrm{EW}}$')\n",
    "ax4.vlines(mintapontok,0,eig5[3,:],label='eig4',color='blue')\n",
    "ax4.grid(True)\n",
    "ax4.set_ylabel('$\\log{\\mathrm{EW}}$')\n",
    "ax4.legend(loc=4)\n",
    "xlabel('$\\lambda$ [$\\AA$]')\n",
    "xlim(3700,6800)\n",
    "ylim(-0.9,0.9)\n",
    "# savefig('emisspca.pdf', bbox_inches='tight')"
   ]
  },
  {
   "cell_type": "code",
   "execution_count": 18,
   "metadata": {
    "collapsed": true
   },
   "outputs": [],
   "source": [
    "# from sklearn.cluster import KMeans"
   ]
  },
  {
   "cell_type": "markdown",
   "metadata": {},
   "source": [
    "Beck féle sajátvektorok behozatala"
   ]
  },
  {
   "cell_type": "code",
   "execution_count": 23,
   "metadata": {
    "collapsed": true
   },
   "outputs": [],
   "source": [
    "eig4=numpy.empty((4,10))\n",
    "eig4[0]=[-0.342929,-0.204615,-0.336994,-0.0787687,-0.252934,-0.167194,-0.539688,-0.345591,-0.271008,-0.218075]\n",
    "eig4[1]=[0.100571,0.0604791,-0.0792591,0.715315,0.53597,-0.0131608,-0.310997,-0.260573,0.039487,0.114431]\n",
    "eig4[2]=[0.520538,-0.16036,-0.0854877,-0.192218,0.0709786,-0.633041,0.0753818,-0.292177,-0.073244,-0.188573]\n",
    "eig4[3]=[0.574171,0.251172,0.1207,-0.00264742,-0.224108,0.00223063,-0.0562945,-0.17211,0.126566,0.160372]"
   ]
  },
  {
   "cell_type": "code",
   "execution_count": 48,
   "metadata": {},
   "outputs": [
    {
     "name": "stdout",
     "output_type": "stream",
     "text": [
      "[[-0.342929   -0.204615   -0.336994   -0.0787687  -0.252934   -0.167194\n",
      "  -0.539688   -0.345591   -0.271008   -0.218075  ]\n",
      " [ 0.100571    0.0604791  -0.0792591   0.715315    0.53597    -0.0131608\n",
      "  -0.310997   -0.260573    0.039487    0.114431  ]\n",
      " [ 0.520538   -0.16036    -0.0854877  -0.192218    0.0709786  -0.633041\n",
      "   0.0753818  -0.292177   -0.073244   -0.188573  ]\n",
      " [ 0.574171    0.251172    0.1207     -0.00264742 -0.224108    0.00223063\n",
      "  -0.0562945  -0.17211     0.126566    0.160372  ]]\n"
     ]
    }
   ],
   "source": [
    "print(eig4)"
   ]
  },
  {
   "cell_type": "code",
   "execution_count": 49,
   "metadata": {
    "collapsed": true
   },
   "outputs": [],
   "source": [
    "PCEm4=numpy.dot(eig4, korrelaciomatrix)"
   ]
  },
  {
   "cell_type": "code",
   "execution_count": 50,
   "metadata": {},
   "outputs": [
    {
     "name": "stdout",
     "output_type": "stream",
     "text": [
      "[[ 0.26098737 -2.27057574  0.56246088 ...,  0.98861481  1.33506512\n",
      "   0.05242739]\n",
      " [-1.3947852   0.63487149  1.35401799 ...,  1.19813882 -0.79536532\n",
      "   1.05906224]\n",
      " [-0.42066657 -1.14496818  0.08228931 ..., -0.35408247  0.44369296\n",
      "   0.98906058]\n",
      " [-0.08967943  0.45253986 -0.31496764 ..., -0.79676863 -0.14148378\n",
      "   0.52532918]]\n"
     ]
    }
   ],
   "source": [
    "print(PCEm4)"
   ]
  },
  {
   "cell_type": "code",
   "execution_count": 52,
   "metadata": {
    "collapsed": true
   },
   "outputs": [],
   "source": [
    "numpy.save('./PCAfeldolgozas/PCsemiss4.npy',PCEm4)\n",
    "numpy.save('./PCAfeldolgozas/emieig4.npy',eig4)"
   ]
  },
  {
   "cell_type": "code",
   "execution_count": null,
   "metadata": {
    "collapsed": true
   },
   "outputs": [],
   "source": []
  }
 ],
 "metadata": {
  "kernelspec": {
   "display_name": "Python 3",
   "language": "python",
   "name": "python3"
  },
  "language_info": {
   "codemirror_mode": {
    "name": "ipython",
    "version": 3
   },
   "file_extension": ".py",
   "mimetype": "text/x-python",
   "name": "python",
   "nbconvert_exporter": "python",
   "pygments_lexer": "ipython3",
   "version": "3.5.3"
  }
 },
 "nbformat": 4,
 "nbformat_minor": 2
}
