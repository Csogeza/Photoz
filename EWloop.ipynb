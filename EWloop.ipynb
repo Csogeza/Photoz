{
 "cells": [
  {
   "cell_type": "markdown",
   "metadata": {},
   "source": [
    "Szóval akkor az lesz a dolgom, hogy adott emisszióvonal bázison kapott együtthatókat kell kifejtenem, visszafejtenem aemisziós vonalak ekvivalens szélességeire. Ezen ekvivalens szélességekből nyílván megkapom az **EW**-t, mely az emissziós vonal kontinuumon felüli területére utal. Kell majd venni a helyi kontinuum fluxust, majd ezt kell szorozni az **EW**-vel, ez lesz a vonalon belüli terület. Ezt az alábbi integrálformulával számolhatjuk:\n",
    "$$W_{\\lambda}=\\int (1-F_{\\lambda}/F_0)d\\lambda .$$\n",
    "Ugye kérdés, hogy mettől meddig kell integrálni. Ehhez kell beadni a galaxis sebességdiszperzióját, mely ugye megadja a vonalkiszélesedést (nyílván a két szélső értéket), ezt az alábbi képlettel lehet majd számolni:\n",
    "$$\\frac{\\Delta \\lambda}{\\lambda}=\\frac{v}{c} .$$\n",
    "Valahogy rá kéne ezt majd kötni a Gauss-görbére, mert ez még nem elegendő adat ahhoz, hogy konkréta számolni lehessen, de Gauss-t már lehet illeszteni. Ugye a Gauss-görbe egyenlete:\n",
    "$$f(x)=ae^{-\\frac{(x-b)^2}{2c^2}} .$$\n",
    "Nyílván itt $b$ az adva lesz, csak fix hullámhosszakon jelennek meg a vonalak a c-t pedig én adom be, mint sebességdiszperziót. \n",
    "\n",
    "Az illesztett Gaussal számolni tudjuk az emissziós vonal területét, itt most legyen a $F_{0}$ a kontunuum átlag fluxusa egy adott hullámhossztartományon. Ekkor a vonal területe az ekvivalens szélesség definíciójából adódóan:\n",
    "$$W_{\\lambda}F_0 = \\int  ae^{-\\frac{(\\lambda-\\lambda_0)^2}{2\\sigma ^2}} d\\lambda .$$\n",
    "\n",
    "Ugye itt mindkét oldal igazából a teljes fluxus a bal oldal definíció szerint, a jobbon meg látszik"
   ]
  },
  {
   "cell_type": "markdown",
   "metadata": {},
   "source": [
    "Mivel tudjuk a sebességdiszperziót, ezért megvan az alsó és felső határ, numerikus integrálással megoldható az egyenlet $a$-ra, csak ismernünk kell a Gauss-görbe szélességét. Mivel a terület 99.7%-a 3$\\sigma$-n belül van, ezért a két integrálási határ különbségének felének harmadát tekinthetjük a Gauss görbe szórásának, azaz\n",
    "$$\\sigma = \\frac{\\lambda_2-\\lambda_0}{3}$$\n",
    "Ha ez megvan, akkor csak visszanyúlunk az ekvivalens szélesség definíciójának integrálalakjához:\n",
    "$$F_0 \\int (1-F_{\\lambda}/F_0)d\\lambda =\\int  ae^{-\\frac{(\\lambda-\\lambda_0)^2}{2\\sigma ^2}} d\\lambda ,$$\n",
    "ahonnét azt kapjuk, hogy az egyes $\\lambda$-k esetén az alábbi módon számolható a fluxus:\n",
    "$$F_0-F_{\\lambda}=ae^{-\\frac{(\\lambda-\\lambda_0)^2}{2\\sigma ^2}} .$$\n",
    "**FONTOS:** Definícióból adódóan nem mindegy, milyen típusú vonalakkal dolgozunk. Az adatbázisban pozitív értékek szerepelnek a log(EW)-kre, vagyis $W_{\\lambda}$-t pozitívnak vette emissziós vonalakra, holott annak definíció szerint negatívnak kell lennie. Emiatt beleírok még egy negatív előjelet, a végső egyenlet így alakul:\n",
    "$$F_{\\lambda}-F_0=ae^{-\\frac{(\\lambda-\\lambda_0)^2}{2\\sigma ^2}} .$$"
   ]
  },
  {
   "cell_type": "markdown",
   "metadata": {
    "collapsed": true
   },
   "source": [
    "Tehát akkor az kell nekünk először, hogy amennyiben kapunk PCA együtthatókat a vonalak terében, akkor azokból visszaszámoljuk az **EW**-ket. Vagyis lejátszuk a PCA-t visszafelé. Ehhez be kell tölteni a sajátvektorokat, majd csak szorozgatni kell"
   ]
  },
  {
   "cell_type": "code",
   "execution_count": 1,
   "metadata": {},
   "outputs": [
    {
     "name": "stdout",
     "output_type": "stream",
     "text": [
      "Populating the interactive namespace from numpy and matplotlib\n"
     ]
    }
   ],
   "source": [
    "%pylab inline"
   ]
  },
  {
   "cell_type": "code",
   "execution_count": 2,
   "metadata": {
    "collapsed": true
   },
   "outputs": [],
   "source": [
    "# lambd=[6565,4863,6718,6733,4342,3727,5008,4960,6585,6550]\n",
    "lambd=[3727,4342,4863,4960,5008,6550,6565,6585,6718,6733]\n",
    "egyhat=numpy.load('./PCAfeldolgozas/PCAemissGX1.npy')\n",
    "V=numpy.load('./PCAfeldolgozas/EmissV.npy')\n",
    "atlag=numpy.load('./PCAfeldolgozas/emissatlag.npy')"
   ]
  },
  {
   "cell_type": "code",
   "execution_count": 3,
   "metadata": {},
   "outputs": [
    {
     "name": "stdout",
     "output_type": "stream",
     "text": [
      "[ 0.81135257 -1.32310758 -0.14490638 -0.21239023  0.02867741 -0.06997185\n",
      "  0.177512    0.0622921   0.06276079  0.0187352 ]\n"
     ]
    }
   ],
   "source": [
    "print(egyhat)"
   ]
  },
  {
   "cell_type": "code",
   "execution_count": 4,
   "metadata": {},
   "outputs": [
    {
     "name": "stdout",
     "output_type": "stream",
     "text": [
      "[[  3.72700000e+03   2.63922403e+00]\n",
      " [  4.34200000e+03   1.07927716e+00]\n",
      " [  4.86300000e+03   1.89984002e+00]\n",
      " [  4.96000000e+03   1.72868156e-01]\n",
      " [  5.00800000e+03   1.26587164e+00]\n",
      " [  6.55000000e+03   8.65347612e-01]\n",
      " [  6.56500000e+03   3.17520272e+00]\n",
      " [  6.58500000e+03   2.03403502e+00]\n",
      " [  6.71800000e+03   1.47239231e+00]\n",
      " [  6.73300000e+03   1.12899126e+00]]\n"
     ]
    }
   ],
   "source": [
    "print(atlag)"
   ]
  },
  {
   "cell_type": "code",
   "execution_count": 5,
   "metadata": {
    "collapsed": true
   },
   "outputs": [],
   "source": [
    "EWk=numpy.dot(V.T,egyhat)\n",
    "# print(EWk)"
   ]
  },
  {
   "cell_type": "code",
   "execution_count": 6,
   "metadata": {
    "collapsed": true
   },
   "outputs": [],
   "source": [
    "EWk=EWk+atlag[:,1]"
   ]
  },
  {
   "cell_type": "code",
   "execution_count": 7,
   "metadata": {},
   "outputs": [
    {
     "name": "stdout",
     "output_type": "stream",
     "text": [
      "[ 2.0115    1.14995   2.067    -0.744458  0.184125  1.05734   3.33148\n",
      "  2.17149   1.44231   1.15532 ]\n"
     ]
    }
   ],
   "source": [
    "print(EWk)"
   ]
  },
  {
   "cell_type": "markdown",
   "metadata": {},
   "source": [
    "A kontinuumot itt kreálom meg, itt most konstans 1, de be lehet olvasni is, és egy adott intervallumra átlagolom az ekvivalens szélességhez."
   ]
  },
  {
   "cell_type": "code",
   "execution_count": 8,
   "metadata": {
    "collapsed": true
   },
   "outputs": [],
   "source": [
    "content = numpy.load('./PCAfeldolgozas/ujramint_spektrumok.npy').item()\n",
    "GX1=content[0]\n",
    "del content"
   ]
  },
  {
   "cell_type": "code",
   "execution_count": 9,
   "metadata": {
    "collapsed": true
   },
   "outputs": [],
   "source": [
    "mintapontok=linspace(3724,6760.6,5062)\n",
    "# Fcont=numpy.empty((5062,1))\n",
    "# Fcont[:]=1\n",
    "Kontinuum=numpy.empty((5062,2))\n",
    "Kontinuum[:,0]=mintapontok[:]\n",
    "Kontinuum[:,1]=GX1[:,1]              # a már újramintavételezett kontinuum modellt veszem fel"
   ]
  },
  {
   "cell_type": "markdown",
   "metadata": {},
   "source": [
    "Amiket most kaptunk azok a log(**EW**)-k, ezekből ki kell számolni mindenek előtt az **EW**-ket"
   ]
  },
  {
   "cell_type": "code",
   "execution_count": 10,
   "metadata": {
    "scrolled": true
   },
   "outputs": [
    {
     "name": "stdout",
     "output_type": "stream",
     "text": [
      "[  7.47452072   3.158035     7.90108427   0.47499168   1.20216608\n",
      "   2.87870344  27.97972106   8.77134361   4.23045689   3.17503927]\n"
     ]
    }
   ],
   "source": [
    "EW=numpy.exp(EWk)\n",
    "print(EW)"
   ]
  },
  {
   "cell_type": "markdown",
   "metadata": {},
   "source": [
    "Most ki kell számolni a Gauss-görbe $a$-ját"
   ]
  },
  {
   "cell_type": "code",
   "execution_count": 11,
   "metadata": {
    "collapsed": true
   },
   "outputs": [],
   "source": [
    "from scipy.integrate import quad"
   ]
  },
  {
   "cell_type": "code",
   "execution_count": 12,
   "metadata": {
    "collapsed": true
   },
   "outputs": [],
   "source": [
    "def interpol(x1,x2,y1,y2,xk):\n",
    "    a=(y2-y1)/(x2-x1)\n",
    "    b=y1-x1*(y2-y1)/(x2-x1)\n",
    "    \n",
    "    yx=a*xk+b\n",
    "    \n",
    "    return(yx)"
   ]
  },
  {
   "cell_type": "code",
   "execution_count": 13,
   "metadata": {
    "collapsed": true
   },
   "outputs": [],
   "source": [
    "Spektrum=numpy.empty((5062,2))\n",
    "Spektrum[:,0]=mintapontok[:]\n",
    "\n",
    "Spektrum[:,1]=Kontinuum[:,1]"
   ]
  },
  {
   "cell_type": "code",
   "execution_count": 14,
   "metadata": {
    "collapsed": true
   },
   "outputs": [],
   "source": [
    "def integrand(x, sig, l0):\n",
    "    return(numpy.exp(-(x-l0)**2 / (2*sig**2)))\n",
    "\n",
    "sigma=200                     # gx sebsségdiszperziója\n",
    "\n",
    "Emiss={}                      # dictionary az emissziós vonalak tárolására\n",
    "\n",
    "for j in range (0,10):\n",
    "    l0=lambd[j]                   # emissziós vonal hullámhossza\n",
    "    dellambd=l0*sigma/300000\n",
    "    l1=l0-dellambd                # alsó integrálási határ\n",
    "    l2=l0+dellambd                # felső integrálási határ\n",
    "    sig=(l2-l0)/3                 # Gauss szórása\n",
    "    W=EW[j]\n",
    "\n",
    "    I=quad(integrand, l1, l2, args=(sig, l0))    # Gauss integrál számolása\n",
    "\n",
    "    integ=I[0]                                   # quad több értékkel tér vissza, ebből veszem az elsőt\n",
    "\n",
    "    F0=0\n",
    "    w=0\n",
    "    for q in range (0,5062):\n",
    "        if(Kontinuum[q,0]>l1 and Kontinuum[q,0]<l2):         # számolok egy átlagkontinuumot a vonal környezetében (a vonal alatt)\n",
    "            F0+=Kontinuum[q,1]\n",
    "            w+=1\n",
    "    F0=F0/w\n",
    "\n",
    "    a=F0*W/integ                   # Gauss együtthatója\n",
    "\n",
    "    Flamb=numpy.empty((1000,1))                                 # kiszámolom a csúcs fluxusait\n",
    "    lamb=linspace(l1,l2,1000)\n",
    "    for i in range (0,1000):\n",
    "        Flamb[i]=F0+a*numpy.exp(-(lamb[i]-l0)**2 / (2*sig**2))\n",
    "    \n",
    "    vonal=numpy.empty((1000,2))\n",
    "    vonal[:,0]=lamb[:]\n",
    "    vonal[:,1]=Flamb[:,0]\n",
    "\n",
    "    d=0\n",
    "    for q in range (0,5062):                                 # hány mintavételezési pont esik a vonal alá\n",
    "        if(mintapontok[q]>l1 and mintapontok[q]<l2):\n",
    "            d+=1\n",
    "        \n",
    "    temp=vonal\n",
    "    v=0\n",
    "    umvonal=numpy.empty((d,2))                               # újramintavételezem a vonalat a spektrum binelésére\n",
    "    for q in range (0,5062):\n",
    "        xk=mintapontok[q]\n",
    "        w=0\n",
    "        while(w<999):\n",
    "            if(xk>temp[w,0] and xk<temp[w+1,0]):\n",
    "                yk=interpol(temp[w,0],temp[w+1,0],temp[w,1],temp[w+1,1],xk)\n",
    "                umvonal[v,0]=xk\n",
    "                umvonal[v,1]=yk\n",
    "                v+=1\n",
    "                break\n",
    "            w+=1\n",
    "    t=0  \n",
    "    for q in range (0,5062):                               # ráteszem a vonalat a spektrumra\n",
    "        if(Kontinuum[q,0]>l1 and Kontinuum[q,0]<l2):\n",
    "            Spektrum[q,1]+=umvonal[t,1]\n",
    "            t+=1      \n",
    "            \n",
    "    Emiss[j]=umvonal\n",
    "    del temp\n",
    "    del vonal\n",
    "    del umvonal"
   ]
  },
  {
   "cell_type": "code",
   "execution_count": 15,
   "metadata": {},
   "outputs": [
    {
     "data": {
      "text/plain": [
       "(0, 7.5)"
      ]
     },
     "execution_count": 15,
     "metadata": {},
     "output_type": "execute_result"
    },
    {
     "data": {
      "image/png": "[encoded data removed]",
      "text/plain": [
       "<matplotlib.figure.Figure at 0x23344c57f98>"
      ]
     },
     "metadata": {},
     "output_type": "display_data"
    }
   ],
   "source": [
    "figsize(12,8)\n",
    "figure(1)\n",
    "subplot(211)\n",
    "plot(Spektrum[:,0],Spektrum[:,1])\n",
    "subplot(212)\n",
    "plot(Kontinuum[:,0],Kontinuum[:,1])\n",
    "ylim(0,7.5)"
   ]
  },
  {
   "cell_type": "code",
   "execution_count": 16,
   "metadata": {},
   "outputs": [
    {
     "data": {
      "text/plain": [
       "[<matplotlib.lines.Line2D at 0x233a214e518>]"
      ]
     },
     "execution_count": 16,
     "metadata": {},
     "output_type": "execute_result"
    },
    {
     "data": {
      "image/png": "[encoded data removed]",
      "text/plain": [
       "<matplotlib.figure.Figure at 0x233445a7588>"
      ]
     },
     "metadata": {},
     "output_type": "display_data"
    }
   ],
   "source": [
    "content=loadtxt('./SDSS/GX1.dat')\n",
    "array=content[:,[0,8]]\n",
    "plot(array[:,0],array[:,1])"
   ]
  },
  {
   "cell_type": "code",
   "execution_count": null,
   "metadata": {
    "collapsed": true
   },
   "outputs": [],
   "source": []
  }
 ],
 "metadata": {
  "kernelspec": {
   "display_name": "Python 3",
   "language": "python",
   "name": "python3"
  },
  "language_info": {
   "codemirror_mode": {
    "name": "ipython",
    "version": 3
   },
   "file_extension": ".py",
   "mimetype": "text/x-python",
   "name": "python",
   "nbconvert_exporter": "python",
   "pygments_lexer": "ipython3",
   "version": "3.5.3"
  }
 },
 "nbformat": 4,
 "nbformat_minor": 2
}
